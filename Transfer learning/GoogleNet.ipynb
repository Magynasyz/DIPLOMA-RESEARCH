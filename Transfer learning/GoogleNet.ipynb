{
  "nbformat": 4,
  "nbformat_minor": 0,
  "metadata": {
    "colab": {
      "provenance": [],
      "gpuType": "T4"
    },
    "kernelspec": {
      "name": "python3",
      "display_name": "Python 3"
    },
    "language_info": {
      "name": "python"
    },
    "accelerator": "GPU"
  },
  "cells": [
    {
      "cell_type": "code",
      "execution_count": null,
      "metadata": {
        "id": "ZPfTx5LXcTae"
      },
      "outputs": [],
      "source": [
        "import numpy as np # linear algebra\n",
        "import pandas as pd # data processing, CSV file I/O (e.g. pd.read_csv)\n",
        "\n",
        "# Input data files are available in the \"../input/\" directory.\n",
        "# For example, running this (by clicking run or pressing Shift+Enter) will list the files in the input directory\n",
        "\n",
        "import os\n",
        "# print(os.listdir(\"../input\"))"
      ]
    },
    {
      "cell_type": "code",
      "source": [
        "# Imports\n",
        "%matplotlib inline\n",
        "%config InlineBackend.figure_format = 'retina'\n",
        "\n",
        "import matplotlib.pyplot as plt\n",
        "import numpy as np\n",
        "import pandas as pd\n",
        "import torch\n",
        "from torch import nn, optim\n",
        "import torch.nn.functional as F\n",
        "import torchvision\n",
        "from torchvision import datasets, transforms, models\n",
        "from torch.autograd import Variable\n",
        "from torch.utils.data.sampler import SubsetRandomSampler"
      ],
      "metadata": {
        "id": "4h5tYISMcgbd"
      },
      "execution_count": null,
      "outputs": []
    },
    {
      "cell_type": "code",
      "source": [
        "from google.colab import drive\n",
        "drive.mount('/content/gdrive')\n"
      ],
      "metadata": {
        "colab": {
          "base_uri": "https://localhost:8080/"
        },
        "id": "BGg41qY_cx7w",
        "outputId": "15618f21-4457-4d42-b607-5238a39709be"
      },
      "execution_count": null,
      "outputs": [
        {
          "output_type": "stream",
          "name": "stdout",
          "text": [
            "Mounted at /content/gdrive\n"
          ]
        }
      ]
    },
    {
      "cell_type": "code",
      "source": [
        "data_dir = '/content/gdrive/MyDrive/new (1)/Kazakhstan_Banknotes_Dataset (1)/out_dir/'"
      ],
      "metadata": {
        "id": "LRWJ7dIXcmV0"
      },
      "execution_count": null,
      "outputs": []
    },
    {
      "cell_type": "code",
      "source": [
        "ls '/content/gdrive/MyDrive/new (1)/Kazakhstan_Banknotes_Dataset (1)/out_dir/'"
      ],
      "metadata": {
        "colab": {
          "base_uri": "https://localhost:8080/"
        },
        "id": "T3ySnwiWcvkB",
        "outputId": "f5a59c66-bd6f-47a9-8f06-af701cb5aabd"
      },
      "execution_count": null,
      "outputs": [
        {
          "output_type": "stream",
          "name": "stdout",
          "text": [
            "\u001b[0m\u001b[01;34m10000_tenge\u001b[0m/  \u001b[01;34m1000_tenge\u001b[0m/  \u001b[01;34m20000_tenge\u001b[0m/  \u001b[01;34m2000_tenge\u001b[0m/  \u001b[01;34m5000_tenge\u001b[0m/  \u001b[01;34m500_tenge\u001b[0m/\n"
          ]
        }
      ]
    },
    {
      "cell_type": "code",
      "source": [
        "from glob import glob\n",
        "images = glob(os.path.join(data_dir, '*/*.jpg'))\n",
        "tot_images = len(images)\n",
        "print('Total images:', tot_images)"
      ],
      "metadata": {
        "colab": {
          "base_uri": "https://localhost:8080/"
        },
        "id": "Dyw1f7VKc9yp",
        "outputId": "f68c540b-65a7-4be2-9b6b-a14b44267452"
      },
      "execution_count": null,
      "outputs": [
        {
          "output_type": "stream",
          "name": "stdout",
          "text": [
            "Total images: 1259\n"
          ]
        }
      ]
    },
    {
      "cell_type": "code",
      "source": [
        "tot_images = 1259\n",
        "im_cnt = []\n",
        "class_names = []\n",
        "print('{:18s}'.format('Class'), end='')\n",
        "print('Count')\n",
        "print('-' * 24)\n",
        "for folder in os.listdir(os.path.join(data_dir)):\n",
        "    folder_num = len(os.listdir(os.path.join(data_dir, folder)))\n",
        "    im_cnt.append(folder_num)\n",
        "    class_names.append(folder)\n",
        "    print('{:20s}'.format(folder), end=' ')\n",
        "    print(folder_num)\n",
        "    if (folder_num < tot_images):\n",
        "        tot_images = folder_num\n",
        "        folder_num = folder\n",
        "\n",
        "num_classes = len(class_names)\n",
        "print('Total number of classes: {}'.format(num_classes))"
      ],
      "metadata": {
        "colab": {
          "base_uri": "https://localhost:8080/"
        },
        "id": "H0KdgATQdEvC",
        "outputId": "4d9e98f4-8fba-49c7-89b9-9f7ef637cb4c"
      },
      "execution_count": null,
      "outputs": [
        {
          "output_type": "stream",
          "name": "stdout",
          "text": [
            "Class             Count\n",
            "------------------------\n",
            "500_tenge            210\n",
            "1000_tenge           210\n",
            "2000_tenge           210\n",
            "5000_tenge           210\n",
            "10000_tenge          209\n",
            "20000_tenge          210\n",
            "Total number of classes: 6\n"
          ]
        }
      ]
    },
    {
      "cell_type": "code",
      "source": [
        "data_transforms ={\n",
        "    \"train_transforms\": transforms.Compose([transforms.RandomRotation(30),\n",
        "                                           transforms.RandomResizedCrop(224),\n",
        "                                           transforms.RandomHorizontalFlip(),\n",
        "                                           transforms.ToTensor(),\n",
        "                                           transforms.Normalize([0.485, 0.456, 0.406],\n",
        "                                                                [0.229, 0.224, 0.225])]),\n",
        "   \"valid_transforms\": transforms.Compose([transforms.Resize(225),\n",
        "                                           transforms.CenterCrop(224),\n",
        "                                           transforms.ToTensor(),\n",
        "                                           transforms.Normalize([0.485, 0.456, 0.406],\n",
        "                                                                [0.229, 0.224, 0.225])]),\n",
        "    \"test_transforms\": transforms.Compose([transforms.Resize(225),\n",
        "                                           transforms.CenterCrop(224),\n",
        "                                           transforms.ToTensor(),\n",
        "                                           transforms.Normalize([0.485, 0.456, 0.406],\n",
        "                                                                [0.229, 0.224, 0.225])])\n",
        "}"
      ],
      "metadata": {
        "id": "JdcYBTeLdGo8"
      },
      "execution_count": null,
      "outputs": []
    },
    {
      "cell_type": "code",
      "source": [
        "# Split the dataset into train, validation and test\n",
        "train_data = 0.8\n",
        "valid_data = 0.2\n",
        "test_data = 0.0\n",
        "\n",
        "# Load the datasets with ImageFolder\n",
        "train_data = datasets.ImageFolder(data_dir, transform=data_transforms[\"train_transforms\"])#loading dataset\n",
        "valid_data = datasets.ImageFolder(data_dir, transform=data_transforms[\"valid_transforms\"])\n",
        "test_data = datasets.ImageFolder(data_dir, transform=data_transforms[\"test_transforms\"])\n",
        "\n",
        "# Obtain training indices that will be used for validation and test\n",
        "num_train = len(train_data)\n",
        "indices = list(range(num_train))\n",
        "# np.random.shuffle(indices)\n",
        "train_count = int(0.8*num_train)\n",
        "valid_count = int(0.2*num_train)\n",
        "test_count = num_train - train_count - valid_count\n",
        "train_idx = indices[:train_count]\n",
        "valid_idx = indices[train_count:train_count+valid_count]\n",
        "test_idx = indices[train_count+valid_count:]\n",
        "\n",
        "print(len(train_idx), len(valid_idx), len(test_idx))\n",
        "print(\"Training\", train_count, np.sum(len(train_idx)/num_train))\n",
        "print(\"Validation\", valid_count, np.sum(len(valid_idx)/num_train))\n",
        "print(\"Test\", test_count, np.sum(len(test_idx)/num_train))\n"
      ],
      "metadata": {
        "colab": {
          "base_uri": "https://localhost:8080/"
        },
        "id": "Wck1dgl4dLMo",
        "outputId": "69f00a4e-8639-4ae5-dba5-31047afa2cd7"
      },
      "execution_count": null,
      "outputs": [
        {
          "output_type": "stream",
          "name": "stdout",
          "text": [
            "1007 251 1\n",
            "Training 1007 0.7998411437648928\n",
            "Validation 251 0.1993645750595711\n",
            "Test 1 0.0007942811755361397\n"
          ]
        }
      ]
    },
    {
      "cell_type": "code",
      "source": [
        "# Define a custom sampler for the dataset loader avoiding recreating the dataset (just creating a new loader for each different sampling)\n",
        "train_sampler = SubsetRandomSampler(train_idx)\n",
        "valid_sampler = SubsetRandomSampler(valid_idx)\n",
        "test_sampler = SubsetRandomSampler(test_idx)"
      ],
      "metadata": {
        "id": "3A0Z4bMtdSzF"
      },
      "execution_count": null,
      "outputs": []
    },
    {
      "cell_type": "code",
      "source": [
        "# Define the dataloaders using the image datasets. Dataloader is used to load our data in batches\n",
        "trainloader = torch.utils.data.DataLoader(train_data, batch_size = 64, shuffle = True)\n",
        "validloader = torch.utils.data.DataLoader(valid_data, batch_size = 32, sampler = valid_sampler)\n",
        "testloader = torch.utils.data.DataLoader(test_data, batch_size = 32, sampler = test_sampler)"
      ],
      "metadata": {
        "id": "8LdZ1owLdU-w"
      },
      "execution_count": null,
      "outputs": []
    },
    {
      "cell_type": "code",
      "source": [
        "classes = [\"500_tenge\", \"1000_tenge\", \"2000_tenge\", \"5000_tenge\", \"10000_tenge\", \"20000_tenge\"]"
      ],
      "metadata": {
        "id": "Qi8pdITadZ5Y"
      },
      "execution_count": null,
      "outputs": []
    },
    {
      "cell_type": "code",
      "source": [
        "#helper function to un-normalize and display an image\n",
        "def imshow(img):\n",
        "    img = img / 2 + 0.5 #unnormalize\n",
        "    plt.imshow(np.transpose(img, (1,2,0))) #convert tensor image type to numpy image type for visualization\n"
      ],
      "metadata": {
        "id": "5AVGkDJ5dd2g"
      },
      "execution_count": null,
      "outputs": []
    },
    {
      "cell_type": "code",
      "source": [
        "# #Visualize some sample data\n",
        "# #Obtain one batch of training images\n",
        "# dataiter = iter(trainloader)\n",
        "# images, labels = dataiter.next()\n",
        "# images = images.numpy() #convert images to numpy for display\n",
        "\n",
        "# #Plot the images in the batch, along with corresponding labels\n",
        "# fig = plt.figure(figsize=(25,4))\n",
        "# for idx in np.arange(20):\n",
        "#     ax = fig.add_subplot(2, 20/2, idx+1, xticks=[], yticks=[])\n",
        "#     imshow(images[idx])\n",
        "#     #ax.set_title(str(labels[idx].item()))\n",
        "#     ax.set_title(classes[labels[idx]])"
      ],
      "metadata": {
        "id": "QPkqOKFNdgFr"
      },
      "execution_count": null,
      "outputs": []
    },
    {
      "cell_type": "code",
      "source": [
        "# Specify model architecture\n",
        "# Load the pretrained model from pytorch's library and stored it in model_transfer\n",
        "model_transfer = models.googlenet(pretrained=True)\n",
        "\n",
        "# Check if GPU is available\n",
        "use_cuda = torch.cuda.is_available()\n",
        "if use_cuda:\n",
        "    model_transfer = model_transfer.cuda()"
      ],
      "metadata": {
        "colab": {
          "base_uri": "https://localhost:8080/"
        },
        "id": "vDh3nMcjd5y9",
        "outputId": "a99c80a1-939b-4a13-cc93-82a77b63a189"
      },
      "execution_count": null,
      "outputs": [
        {
          "output_type": "stream",
          "name": "stderr",
          "text": [
            "/usr/local/lib/python3.10/dist-packages/torchvision/models/_utils.py:208: UserWarning: The parameter 'pretrained' is deprecated since 0.13 and may be removed in the future, please use 'weights' instead.\n",
            "  warnings.warn(\n",
            "/usr/local/lib/python3.10/dist-packages/torchvision/models/_utils.py:223: UserWarning: Arguments other than a weight enum or `None` for 'weights' are deprecated since 0.13 and may be removed in the future. The current behavior is equivalent to passing `weights=GoogLeNet_Weights.IMAGENET1K_V1`. You can also use `weights=GoogLeNet_Weights.DEFAULT` to get the most up-to-date weights.\n",
            "  warnings.warn(msg)\n",
            "Downloading: \"https://download.pytorch.org/models/googlenet-1378be20.pth\" to /root/.cache/torch/hub/checkpoints/googlenet-1378be20.pth\n",
            "100%|██████████| 49.7M/49.7M [00:00<00:00, 62.7MB/s]\n"
          ]
        }
      ]
    },
    {
      "cell_type": "code",
      "source": [
        "#print the model to see all the layers\n",
        "# print(model_transfer)"
      ],
      "metadata": {
        "id": "gO7kZReBeCik"
      },
      "execution_count": null,
      "outputs": []
    },
    {
      "cell_type": "code",
      "source": [
        "#Lets read the fully connected layer\n",
        "print(model_transfer.fc.in_features)\n",
        "print(model_transfer.fc.out_features)"
      ],
      "metadata": {
        "colab": {
          "base_uri": "https://localhost:8080/"
        },
        "id": "LVCSCCaeeEA3",
        "outputId": "b560ceb4-ed5a-4ef3-cf9b-f985e1b03ad5"
      },
      "execution_count": null,
      "outputs": [
        {
          "output_type": "stream",
          "name": "stdout",
          "text": [
            "1024\n",
            "1000\n"
          ]
        }
      ]
    },
    {
      "cell_type": "code",
      "source": [
        "for param in model_transfer.parameters():\n",
        "    param.requires_grad=True"
      ],
      "metadata": {
        "id": "9SpEGvBWeIxP"
      },
      "execution_count": null,
      "outputs": []
    },
    {
      "cell_type": "code",
      "source": [
        "# Define n_inputs takes the same number of inputs from pre-trained model\n",
        "n_inputs = model_transfer.fc.in_features #refer to the fully connected layer only\n",
        "\n",
        "# Add last linear layer (n_inputs -> 4 classes). In this case the ouput is 4 classes\n",
        "# New layer automatically has requires_grad = True\n",
        "last_layer = nn.Linear(n_inputs, len(classes))\n",
        "\n",
        "model_transfer.fc = last_layer\n",
        "\n",
        "# If GPU is available, move the model to GPU\n",
        "if use_cuda:\n",
        "    model_transfer = model_transfer.cuda()\n",
        "\n",
        "# Check to see the last layer produces the expected number of outputs\n",
        "print(model_transfer.fc.out_features)"
      ],
      "metadata": {
        "colab": {
          "base_uri": "https://localhost:8080/"
        },
        "id": "DhB52h5ReLfE",
        "outputId": "1c0dfa70-8706-40c2-9cf6-ad5f2f4f4204"
      },
      "execution_count": null,
      "outputs": [
        {
          "output_type": "stream",
          "name": "stdout",
          "text": [
            "6\n"
          ]
        }
      ]
    },
    {
      "cell_type": "code",
      "source": [
        "# Specify loss function and optimizer\n",
        "criterion_transfer = nn.CrossEntropyLoss()\n",
        "optimizer_transfer = optim.Adam(model_transfer.parameters(), lr=0.001)"
      ],
      "metadata": {
        "id": "9xQH1rgReMRw"
      },
      "execution_count": null,
      "outputs": []
    },
    {
      "cell_type": "code",
      "source": [
        "# Train the model\n",
        "def train(n_epochs, loaders, model, optimizer, criterion, use_cuda, save_path):\n",
        "    '''returns trained model'''\n",
        "    # Initialize tracker for minimum validation loss\n",
        "    valid_loss_min = np.inf\n",
        "\n",
        "    for epoch in range(1, n_epochs+1):\n",
        "        # In the training loop, I track down the loss\n",
        "        # Initialize variables to monitor training and validation loss\n",
        "        train_loss = 0.0\n",
        "        valid_loss = 0.0\n",
        "\n",
        "        # Model training\n",
        "        model.train()\n",
        "        for batch_idx, (data,target) in enumerate(trainloader):\n",
        "            # 1st step: Move to GPU\n",
        "            if use_cuda:\n",
        "                data,target = data.cuda(), target.cuda()\n",
        "\n",
        "            # Then, clear (zero out) the gradient of all optimized variables\n",
        "            optimizer.zero_grad()\n",
        "            # Forward pass: compute predicted outputs by passing inputs to the model\n",
        "            output = model(data)\n",
        "            # Perform the Cross Entropy Loss. Calculate the batch loss.\n",
        "            loss = criterion(output, target)\n",
        "            # Backward pass: compute gradient of the loss with respect to model parameters\n",
        "            loss.backward()\n",
        "            # Perform optimization step (parameter update)\n",
        "            optimizer.step()\n",
        "            # Record the average training loss\n",
        "            train_loss = train_loss + ((1/ (batch_idx + 1 ))*(loss.data-train_loss))\n",
        "\n",
        "        # Model validation\n",
        "        model.eval()\n",
        "        for batch_idx, (data,target) in enumerate(validloader):\n",
        "            # Move to GPU\n",
        "            if use_cuda:\n",
        "                data, target = data.cuda(), target.cuda()\n",
        "            # Update the average validation loss\n",
        "            # Forward pass: compute predicted outputs by passing inputs to the model\n",
        "            output = model(data)\n",
        "            # Calculate the batch loss\n",
        "            loss = criterion(output, target)\n",
        "            # Update the average validation loss\n",
        "            valid_loss = valid_loss + ((1/ (batch_idx +1)) * (loss.data - valid_loss))\n",
        "\n",
        "        # print training/validation stats\n",
        "        print('Epoch: {} \\tTraining Loss: {:.5f} \\tValidation Loss: {:.5f}'.format(\n",
        "            epoch,\n",
        "            train_loss,\n",
        "            valid_loss))\n",
        "\n",
        "        # Save the model if validation loss has decreased\n",
        "        if valid_loss <= valid_loss_min:\n",
        "            print('Validation loss decreased ({:.5f} --> {:.5f}). Saving model ...'.format(\n",
        "                  valid_loss_min,\n",
        "                  valid_loss))\n",
        "            torch.save(model.state_dict(), 'model_transfer.pt')\n",
        "            valid_loss_min = valid_loss\n",
        "\n",
        "    # Return trained model\n",
        "    return model\n",
        "\n",
        "# Define loaders transfer\n",
        "loaders_transfer = {'train': trainloader,\n",
        "                    'valid': validloader,\n",
        "                    'test': testloader}\n",
        "\n",
        "# Train the model\n",
        "model_transfer = train(10, loaders_transfer, model_transfer, optimizer_transfer, criterion_transfer, use_cuda, 'model_transfer.pt')"
      ],
      "metadata": {
        "colab": {
          "base_uri": "https://localhost:8080/"
        },
        "id": "Yx8dIRlGeR5A",
        "outputId": "f4e63bc7-0145-407c-decd-5342c218d612"
      },
      "execution_count": null,
      "outputs": [
        {
          "output_type": "stream",
          "name": "stdout",
          "text": [
            "Epoch: 1 \tTraining Loss: 0.54389 \tValidation Loss: 0.78668\n",
            "Validation loss decreased (inf --> 0.78668). Saving model ...\n",
            "Epoch: 2 \tTraining Loss: 0.15647 \tValidation Loss: 1.57511\n",
            "Epoch: 3 \tTraining Loss: 0.14160 \tValidation Loss: 0.14793\n",
            "Validation loss decreased (0.78668 --> 0.14793). Saving model ...\n",
            "Epoch: 4 \tTraining Loss: 0.11632 \tValidation Loss: 0.05334\n",
            "Validation loss decreased (0.14793 --> 0.05334). Saving model ...\n",
            "Epoch: 5 \tTraining Loss: 0.09719 \tValidation Loss: 0.01537\n",
            "Validation loss decreased (0.05334 --> 0.01537). Saving model ...\n",
            "Epoch: 6 \tTraining Loss: 0.05698 \tValidation Loss: 0.01520\n",
            "Validation loss decreased (0.01537 --> 0.01520). Saving model ...\n",
            "Epoch: 7 \tTraining Loss: 0.06318 \tValidation Loss: 0.03391\n",
            "Epoch: 8 \tTraining Loss: 0.05909 \tValidation Loss: 0.05455\n",
            "Epoch: 9 \tTraining Loss: 0.04127 \tValidation Loss: 0.00355\n",
            "Validation loss decreased (0.01520 --> 0.00355). Saving model ...\n",
            "Epoch: 10 \tTraining Loss: 0.07776 \tValidation Loss: 0.00163\n",
            "Validation loss decreased (0.00355 --> 0.00163). Saving model ...\n"
          ]
        }
      ]
    },
    {
      "cell_type": "code",
      "source": [
        "# import matplotlib.pyplot as plt\n",
        "\n",
        "# # Plot the training and validation accuracy\n",
        "# plt.plot(train_accuracy, label='Train Accuracy')\n",
        "# plt.plot(valid_accuracy, label='Validation Accuracy')\n",
        "\n",
        "# # Add labels and title\n",
        "# plt.xlabel('Epoch')\n",
        "# plt.ylabel('Accuracy')\n",
        "# plt.title('Training and Validation Accuracy')\n",
        "\n",
        "# # Add legend\n",
        "# plt.legend()\n",
        "\n",
        "# # Show the plot\n",
        "# plt.show()\n"
      ],
      "metadata": {
        "id": "OU3bZpIh0LyK"
      },
      "execution_count": null,
      "outputs": []
    },
    {
      "cell_type": "code",
      "source": [
        "# Load the model that got the best validation accuracy\n",
        "model_transfer.load_state_dict(torch.load('model_transfer.pt'))\n"
      ],
      "metadata": {
        "colab": {
          "base_uri": "https://localhost:8080/"
        },
        "id": "vD0IhoUuh8mP",
        "outputId": "23809825-9b6b-48a6-a61f-bdb4a9f77f9d"
      },
      "execution_count": null,
      "outputs": [
        {
          "output_type": "execute_result",
          "data": {
            "text/plain": [
              "<All keys matched successfully>"
            ]
          },
          "metadata": {},
          "execution_count": 23
        }
      ]
    },
    {
      "cell_type": "code",
      "source": [
        "def test(loaders, model, criterion, use_cuda):\n",
        "\n",
        "    # monitor test loss and accuracy\n",
        "    test_loss = 0.\n",
        "    correct = 0.\n",
        "    total = 0.\n",
        "\n",
        "    model_transfer.eval() #set model into evaluation/testing mode. It turns of drop off layer\n",
        "    #Iterating over test data\n",
        "    for batch_idx, (data, target) in enumerate(loaders['test']):\n",
        "        # move to GPU\n",
        "        if use_cuda:\n",
        "            data, target = data.cuda(), target.cuda()\n",
        "        # forward pass: compute predicted outputs by passing inputs to the model\n",
        "        output = model(data)\n",
        "        # calculate the loss\n",
        "        loss = criterion(output, target)\n",
        "        # update average test loss\n",
        "        test_loss = test_loss + ((1 / (batch_idx + 1)) * (loss.data - test_loss))\n",
        "        # convert output probabilities to predicted class\n",
        "        pred = output.data.max(1, keepdim=True)[1]\n",
        "        # compare predictions to\n",
        "        correct += np.sum(np.squeeze(pred.eq(target.data.view_as(pred))).cpu().numpy())\n",
        "        total += data.size(0)\n",
        "\n",
        "    print('Test Loss: {:.6f}\\n'.format(test_loss))\n",
        "\n",
        "    print('\\nTest Accuracy: %2d%% (%2d/%2d)' % (\n",
        "        100. * correct / total, correct, total))\n",
        "\n",
        "# call test function\n",
        "test(loaders_transfer, model_transfer, criterion_transfer, use_cuda)"
      ],
      "metadata": {
        "colab": {
          "base_uri": "https://localhost:8080/"
        },
        "id": "Rc7i8hNyiCmY",
        "outputId": "26e21988-3b51-466e-d512-28fc4a922048"
      },
      "execution_count": null,
      "outputs": [
        {
          "output_type": "stream",
          "name": "stdout",
          "text": [
            "Test Loss: 0.000067\n",
            "\n",
            "\n",
            "Test Accuracy: 100% ( 1/ 1)\n"
          ]
        }
      ]
    },
    {
      "cell_type": "code",
      "source": [
        "from sklearn.metrics import accuracy_score, precision_score, recall_score, f1_score, confusion_matrix\n",
        "\n",
        "def evaluate(model, dataloader, use_cuda):\n",
        "    model.eval()\n",
        "    all_preds = []\n",
        "    all_labels = []\n",
        "\n",
        "    with torch.no_grad():\n",
        "        for data, target in dataloader:\n",
        "            if use_cuda:\n",
        "                data, target = data.cuda(), target.cuda()\n",
        "\n",
        "            output = model(data)\n",
        "            _, preds = torch.max(output, 1)\n",
        "\n",
        "            all_preds.extend(preds.cpu().numpy())\n",
        "            all_labels.extend(target.cpu().numpy())\n",
        "\n",
        "    accuracy = accuracy_score(all_labels, all_preds)\n",
        "    precision = precision_score(all_labels, all_preds, average='macro')\n",
        "    recall = recall_score(all_labels, all_preds, average='macro')\n",
        "    f1 = f1_score(all_labels, all_preds, average='macro')\n",
        "    confusion = confusion_matrix(all_labels, all_preds)\n",
        "\n",
        "    return accuracy, precision, recall, f1, confusion\n"
      ],
      "metadata": {
        "id": "AyAVETW8knTQ"
      },
      "execution_count": null,
      "outputs": []
    },
    {
      "cell_type": "code",
      "source": [
        "# After training, evaluate on the train, validation, and test sets\n",
        "train_accuracy, train_precision, train_recall, train_f1, train_confusion = evaluate(model_transfer, trainloader, use_cuda)\n",
        "validation_accuracy, validation_precision, validation_recall, validation_f1, validation_confusion = evaluate(model_transfer, validloader, use_cuda)\n",
        "test_accuracy, test_precision, test_recall, test_f1, test_confusion = evaluate(model_transfer, testloader, use_cuda)\n",
        "\n",
        "# Print the evaluation metrics\n",
        "print(\"Train Set Metrics:\")\n",
        "print(f\"Accuracy: {train_accuracy}\")\n",
        "print(f\"Precision: {train_precision}\")\n",
        "print(f\"Recall: {train_recall}\")\n",
        "print(f\"F1 Score: {train_f1}\")\n",
        "print(\"Confusion Matrix:\")\n",
        "print(train_confusion)\n",
        "\n",
        "print(\"\\nValidation Set Metrics:\")\n",
        "print(f\"Accuracy: {validation_accuracy}\")\n",
        "print(f\"Precision: {validation_precision}\")\n",
        "print(f\"Recall: {validation_recall}\")\n",
        "print(f\"F1 Score: {validation_f1}\")\n",
        "print(\"Confusion Matrix:\")\n",
        "print(validation_confusion)\n",
        "\n",
        "print(\"\\nTest Set Metrics:\")\n",
        "print(f\"Accuracy: {test_accuracy}\")\n",
        "print(f\"Precision: {test_precision}\")\n",
        "print(f\"Recall: {test_recall}\")\n",
        "print(f\"F1 Score: {test_f1}\")\n",
        "print(\"Confusion Matrix:\")\n",
        "print(test_confusion)\n"
      ],
      "metadata": {
        "colab": {
          "base_uri": "https://localhost:8080/"
        },
        "id": "dYmk6v5bkoLe",
        "outputId": "0610156b-e096-41b6-b9f2-19959af98c0e"
      },
      "execution_count": null,
      "outputs": [
        {
          "output_type": "stream",
          "name": "stdout",
          "text": [
            "Train Set Metrics:\n",
            "Accuracy: 0.9753772835583797\n",
            "Precision: 0.9757186150253933\n",
            "Recall: 0.9753892306523886\n",
            "F1 Score: 0.9752697115338997\n",
            "Confusion Matrix:\n",
            "[[207   0   2   0   0   0]\n",
            " [  0 208   1   0   1   0]\n",
            " [  7   0 192   0   3   8]\n",
            " [  0   1   1 207   0   1]\n",
            " [  1   0   1   0 208   0]\n",
            " [  4   0   0   0   0 206]]\n",
            "\n",
            "Validation Set Metrics:\n",
            "Accuracy: 1.0\n",
            "Precision: 1.0\n",
            "Recall: 1.0\n",
            "F1 Score: 1.0\n",
            "Confusion Matrix:\n",
            "[[ 42   0]\n",
            " [  0 209]]\n",
            "\n",
            "Test Set Metrics:\n",
            "Accuracy: 1.0\n",
            "Precision: 1.0\n",
            "Recall: 1.0\n",
            "F1 Score: 1.0\n",
            "Confusion Matrix:\n",
            "[[1]]\n"
          ]
        }
      ]
    },
    {
      "cell_type": "code",
      "source": [
        "import matplotlib.pyplot as plt\n",
        "\n",
        "def plot_confusion_matrix(confusion_matrix):\n",
        "    plt.figure(figsize=(8, 8))\n",
        "    plt.imshow(confusion_matrix, cmap=\"YlOrRd\", interpolation='nearest')\n",
        "    plt.colorbar()\n",
        "\n",
        "    # Set labels and title\n",
        "    plt.ylabel('Actual Label')\n",
        "    plt.xlabel('Predicted Label')\n",
        "    plt.title('Confusion Matrix')\n",
        "\n",
        "    # Add ticks for each label\n",
        "    plt.xticks(range(confusion_matrix.shape[0]))\n",
        "    plt.yticks(range(confusion_matrix.shape[1]))\n",
        "\n",
        "    # Display values in each cell\n",
        "    for i in range(confusion_matrix.shape[0]):\n",
        "        for j in range(confusion_matrix.shape[1]):\n",
        "            plt.text(j, i, confusion_matrix[i, j], ha='center', va='center')\n",
        "\n",
        "    # Show the plot\n",
        "    plt.show()"
      ],
      "metadata": {
        "id": "vEVFEnPW1yn9"
      },
      "execution_count": null,
      "outputs": []
    },
    {
      "cell_type": "code",
      "source": [
        "plot_confusion_matrix(train_confusion)"
      ],
      "metadata": {
        "colab": {
          "base_uri": "https://localhost:8080/",
          "height": 661
        },
        "id": "OWmIbzvG2dja",
        "outputId": "855e5c1c-10f9-4551-b34f-9040a245746c"
      },
      "execution_count": null,
      "outputs": [
        {
          "output_type": "display_data",
          "data": {
            "text/plain": [
              "<Figure size 800x800 with 2 Axes>"
            ],
            "image/png": "[encoded data removed]"
          },
          "metadata": {
            "image/png": {
              "width": 652,
              "height": 644
            }
          }
        }
      ]
    },
    {
      "cell_type": "code",
      "source": [
        "train_accuracy, train_precision, train_recall, train_f1, train_confusion = evaluate(model_transfer, trainloader, use_cuda)\n",
        "validation_accuracy, validation_precision, validation_recall, validation_f1, validation_confusion = evaluate(model_transfer, validloader, use_cuda)\n",
        "test_accuracy, test_precision, test_recall, test_f1, test_confusion = evaluate(model_transfer, testloader, use_cuda)\n",
        "\n",
        "# Print the evaluation metrics\n",
        "print(\"Train Set Metrics:\")\n",
        "print(f\"Accuracy: {train_accuracy}\")\n",
        "print(f\"Precision: {train_precision}\")\n",
        "print(f\"Recall: {train_recall}\")\n",
        "print(f\"F1 Score: {train_f1}\")\n",
        "print(\"Confusion Matrix:\")\n",
        "print(train_confusion)\n",
        "\n",
        "print(\"\\nValidation Set Metrics:\")\n",
        "print(f\"Accuracy: {validation_accuracy}\")\n",
        "print(f\"Precision: {validation_precision}\")\n",
        "print(f\"Recall: {validation_recall}\")\n",
        "print(f\"F1 Score: {validation_f1}\")\n",
        "print(\"Confusion Matrix:\")\n",
        "print(validation_confusion)\n",
        "\n",
        "print(\"\\nTest Set Metrics:\")\n",
        "print(f\"Accuracy: {test_accuracy}\")\n",
        "print(f\"Precision: {test_precision}\")\n",
        "print(f\"Recall: {test_recall}\")\n",
        "print(f\"F1 Score: {test_f1}\")\n",
        "print(\"Confusion Matrix:\")\n",
        "print(test_confusion)"
      ],
      "metadata": {
        "colab": {
          "base_uri": "https://localhost:8080/"
        },
        "id": "EmxiDA0oxjZJ",
        "outputId": "855f2877-16c1-4915-cb57-fde7024ed93a"
      },
      "execution_count": null,
      "outputs": [
        {
          "output_type": "stream",
          "name": "stdout",
          "text": [
            "Train Set Metrics:\n",
            "Accuracy: 0.9761715647339158\n",
            "Precision: 0.9771115898337716\n",
            "Recall: 0.9761904761904763\n",
            "F1 Score: 0.9758836888474031\n",
            "Confusion Matrix:\n",
            "[[209   0   0   0   0   0]\n",
            " [  0 210   0   0   0   0]\n",
            " [ 11   0 186   1   3   9]\n",
            " [  0   0   1 208   0   1]\n",
            " [  1   0   0   0 209   0]\n",
            " [  3   0   0   0   0 207]]\n",
            "\n",
            "Validation Set Metrics:\n",
            "Accuracy: 1.0\n",
            "Precision: 1.0\n",
            "Recall: 1.0\n",
            "F1 Score: 1.0\n",
            "Confusion Matrix:\n",
            "[[ 42   0]\n",
            " [  0 209]]\n",
            "\n",
            "Test Set Metrics:\n",
            "Accuracy: 1.0\n",
            "Precision: 1.0\n",
            "Recall: 1.0\n",
            "F1 Score: 1.0\n",
            "Confusion Matrix:\n",
            "[[1]]\n"
          ]
        }
      ]
    },
    {
      "cell_type": "code",
      "source": [
        "import torch\n",
        "import numpy as np\n",
        "import matplotlib.pyplot as plt\n",
        "\n",
        "# Define classes\n",
        "class_names = ['200', '500', '1000', '2000']\n",
        "\n",
        "# Define the evaluation function\n",
        "def evaluate(model, dataloader, use_cuda):\n",
        "    model.eval()\n",
        "\n",
        "    correct = 0\n",
        "    total = 0\n",
        "\n",
        "    # Iterate over the data\n",
        "    for batch_idx, (data, target) in enumerate(dataloader):\n",
        "        # Move data to GPU if available\n",
        "        if use_cuda:\n",
        "            data, target = data.cuda(), target.cuda()\n",
        "\n",
        "        # Forward pass\n",
        "        outputs = model(data)\n",
        "        _, predicted = torch.max(outputs.data, 1)\n",
        "\n",
        "        # Update correct predictions\n",
        "        total += target.size(0)\n",
        "        correct += (predicted == target).sum().item()\n",
        "\n",
        "    # Calculate accuracy\n",
        "    accuracy = correct / total\n",
        "    return accuracy\n",
        "\n",
        "# Define loaders transfer\n",
        "loaders_transfer = {'train': trainloader,\n",
        "                    'valid': validloader,\n",
        "                    'test': testloader}\n",
        "\n",
        "# Train the model\n",
        "model_transfer = train(10, loaders_transfer, model_transfer, optimizer_transfer, criterion_transfer, use_cuda, 'model_transfer.pt')\n",
        "\n",
        "# Evaluate on train, validation, and test sets\n",
        "train_accuracy = evaluate(model_transfer, trainloader, use_cuda)\n",
        "validation_accuracy = evaluate(model_transfer, validloader, use_cuda)\n",
        "test_accuracy = evaluate(model_transfer, testloader, use_cuda)\n",
        "\n",
        "# Plot train and validation accuracy\n",
        "epochs = range(1, 11)\n",
        "train_accuracy_values = [train_accuracy] * 10\n",
        "validation_accuracy_values = [validation_accuracy] * 10\n",
        "\n",
        "plt.plot(epochs, train_accuracy_values, label='Train Accuracy')\n",
        "plt.plot(epochs, validation_accuracy_values, label='Validation Accuracy')\n",
        "\n",
        "plt.xlabel('Epoch')\n",
        "plt.ylabel('Accuracy')\n",
        "plt.title('Training and Validation Accuracy')\n",
        "plt.legend()\n",
        "\n",
        "plt.show()\n"
      ],
      "metadata": {
        "colab": {
          "base_uri": "https://localhost:8080/",
          "height": 679
        },
        "id": "E1PPN7zevJr2",
        "outputId": "c2b8448b-6202-4e5e-d0f3-32384e8fcc7f"
      },
      "execution_count": null,
      "outputs": [
        {
          "output_type": "stream",
          "name": "stdout",
          "text": [
            "Epoch: 1 \tTraining Loss: 0.10432 \tValidation Loss: 0.00333\n",
            "Validation loss decreased (inf --> 0.00333). Saving model ...\n",
            "Epoch: 2 \tTraining Loss: 0.08441 \tValidation Loss: 0.00484\n",
            "Epoch: 3 \tTraining Loss: 0.08585 \tValidation Loss: 0.02430\n",
            "Epoch: 4 \tTraining Loss: 0.06539 \tValidation Loss: 0.09337\n",
            "Epoch: 5 \tTraining Loss: 0.06564 \tValidation Loss: 0.00067\n",
            "Validation loss decreased (0.00333 --> 0.00067). Saving model ...\n",
            "Epoch: 6 \tTraining Loss: 0.06886 \tValidation Loss: 0.00915\n",
            "Epoch: 7 \tTraining Loss: 0.04125 \tValidation Loss: 0.05253\n",
            "Epoch: 8 \tTraining Loss: 0.04850 \tValidation Loss: 0.02405\n",
            "Epoch: 9 \tTraining Loss: 0.04622 \tValidation Loss: 0.01310\n",
            "Epoch: 10 \tTraining Loss: 0.03344 \tValidation Loss: 0.00383\n"
          ]
        },
        {
          "output_type": "display_data",
          "data": {
            "text/plain": [
              "<Figure size 640x480 with 1 Axes>"
            ],
            "image/png": "[encoded data removed]"
          },
          "metadata": {
            "image/png": {
              "width": 585,
              "height": 454
            }
          }
        }
      ]
    }
  ]
}